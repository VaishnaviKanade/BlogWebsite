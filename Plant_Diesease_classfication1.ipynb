{
  "nbformat": 4,
  "nbformat_minor": 0,
  "metadata": {
    "colab": {
      "provenance": [],
      "include_colab_link": true
    },
    "kernelspec": {
      "name": "python3",
      "display_name": "Python 3"
    },
    "language_info": {
      "name": "python"
    }
  },
  "cells": [
    {
      "cell_type": "markdown",
      "metadata": {
        "id": "view-in-github",
        "colab_type": "text"
      },
      "source": [
        "<a href=\"https://colab.research.google.com/github/VaishnaviKanade/BlogWebsite/blob/main/Plant_Diesease_classfication1.ipynb\" target=\"_parent\"><img src=\"https://colab.research.google.com/assets/colab-badge.svg\" alt=\"Open In Colab\"/></a>"
      ]
    },
    {
      "cell_type": "code",
      "source": [
        "import tensorflow as tf\n",
        "from tensorflow.keras.preprocessing.image import ImageDataGenerator\n",
        "from tensorflow.keras.models import Sequential\n",
        "from tensorflow.keras.layers import Conv2D, MaxPooling2D, Flatten, Dense, Dropout\n",
        "from tensorflow.keras.optimizers import Adam\n",
        "import matplotlib.pyplot as plt\n",
        "import zipfile\n",
        "import os\n",
        "\n",
        "# Unzip dataset\n",
        "zip_file_path = '/content/drive/MyDrive/Plant_diesease_Dataset-20240519T133336Z-001.zip'\n",
        "extract_dir = '/content/drive/MyDrive/Plant_diesease_Datasetfolder'\n",
        "\n",
        "if not os.path.exists(extract_dir):\n",
        "    with zipfile.ZipFile(zip_file_path, 'r') as zip_ref:\n",
        "        zip_ref.extractall(extract_dir)\n",
        "\n",
        "\n"
      ],
      "metadata": {
        "id": "GOb50z2QoGvt"
      },
      "execution_count": null,
      "outputs": []
    },
    {
      "cell_type": "code",
      "source": [
        "from google.colab import drive\n",
        "drive.mount('/content/drive')"
      ],
      "metadata": {
        "colab": {
          "base_uri": "https://localhost:8080/"
        },
        "id": "0dNV7cweSz7D",
        "outputId": "e6aa4626-f84c-4b00-9495-877bf883365e"
      },
      "execution_count": null,
      "outputs": [
        {
          "output_type": "stream",
          "name": "stdout",
          "text": [
            "Drive already mounted at /content/drive; to attempt to forcibly remount, call drive.mount(\"/content/drive\", force_remount=True).\n"
          ]
        }
      ]
    },
    {
      "cell_type": "code",
      "source": [
        "# Directory paths\n",
        "dataset_dir = '/content/drive/MyDrive/Plant_diesease_Datasetfolder/Plant_diesease_Dataset'\n",
        "\n",
        "# Image data generator\n",
        "datagen = ImageDataGenerator(\n",
        "    rescale=1./255,\n",
        "    shear_range=0.2,\n",
        "    zoom_range=0.2,\n",
        "    horizontal_flip=True,\n",
        "    validation_split=0.2\n",
        ")\n",
        "\n",
        "# Generating training data\n",
        "train_generator = datagen.flow_from_directory(\n",
        "    dataset_dir,\n",
        "    target_size=(150, 150),\n",
        "    batch_size=32,\n",
        "    class_mode='categorical',\n",
        "    subset='training'\n",
        ")\n",
        "\n",
        "# Generating validation data\n",
        "validation_generator = datagen.flow_from_directory(\n",
        "    dataset_dir,\n",
        "    target_size=(150, 150),\n",
        "    batch_size=32,\n",
        "    class_mode='categorical',\n",
        "    subset='validation'\n",
        ")\n",
        "\n",
        "# Model architecture\n",
        "model = Sequential([\n",
        "    Conv2D(32, (3, 3), activation='relu', input_shape=(150, 150, 3)),\n",
        "    MaxPooling2D(2, 2),\n",
        "    Conv2D(64, (3, 3), activation='relu'),\n",
        "    MaxPooling2D(2, 2),\n",
        "    Conv2D(128, (3, 3), activation='relu'),\n",
        "    MaxPooling2D(2, 2),\n",
        "    Flatten(),\n",
        "    Dense(512, activation='relu'),\n",
        "    Dropout(0.5),\n",
        "    Dense(train_generator.num_classes, activation='softmax')\n",
        "])\n",
        "\n",
        "# Compile the model\n",
        "model.compile(\n",
        "    optimizer=Adam(),\n",
        "    loss='categorical_crossentropy',\n",
        "    metrics=['accuracy']\n",
        ")\n",
        "\n",
        "# Train the model\n",
        "history = model.fit(\n",
        "    train_generator,\n",
        "    steps_per_epoch=train_generator.samples // 32,\n",
        "    epochs=25,\n",
        "    validation_data=validation_generator,\n",
        "    validation_steps=validation_generator.samples // 32\n",
        ")\n",
        "\n",
        "# Save the model\n",
        "model.save('/content/drive/MyDrive/Plant_diesease_Datasetfolder/Plant_diesease_Dataset/plant_disease_model.h5')\n",
        "\n",
        "# Plot training history\n",
        "plt.plot(history.history['accuracy'], label='accuracy')\n",
        "plt.plot(history.history['val_accuracy'], label = 'val_accuracy')\n",
        "plt.xlabel('Epoch')\n",
        "plt.ylabel('Accuracy')\n",
        "plt.ylim([0, 1])\n",
        "plt.legend(loc='lower right')\n",
        "plt.show()"
      ],
      "metadata": {
        "colab": {
          "base_uri": "https://localhost:8080/",
          "height": 1000
        },
        "id": "W-UfidJvjixz",
        "outputId": "687bb3f5-4239-43d2-c14f-b8e05af92e20"
      },
      "execution_count": null,
      "outputs": [
        {
          "output_type": "stream",
          "name": "stdout",
          "text": [
            "Found 2750 images belonging to 18 classes.\n",
            "Found 679 images belonging to 18 classes.\n",
            "Epoch 1/25\n",
            "85/85 [==============================] - 207s 2s/step - loss: 2.2829 - accuracy: 0.3083 - val_loss: 1.4334 - val_accuracy: 0.5342\n",
            "Epoch 2/25\n",
            "85/85 [==============================] - 217s 3s/step - loss: 1.3652 - accuracy: 0.5556 - val_loss: 1.1843 - val_accuracy: 0.6473\n",
            "Epoch 3/25\n",
            "85/85 [==============================] - 207s 2s/step - loss: 0.9978 - accuracy: 0.6726 - val_loss: 0.8939 - val_accuracy: 0.7247\n",
            "Epoch 4/25\n",
            "85/85 [==============================] - 215s 3s/step - loss: 0.8402 - accuracy: 0.7127 - val_loss: 0.7086 - val_accuracy: 0.7783\n",
            "Epoch 5/25\n",
            "85/85 [==============================] - 204s 2s/step - loss: 0.7272 - accuracy: 0.7487 - val_loss: 0.6241 - val_accuracy: 0.8021\n",
            "Epoch 6/25\n",
            "85/85 [==============================] - 203s 2s/step - loss: 0.6309 - accuracy: 0.7855 - val_loss: 0.6825 - val_accuracy: 0.8125\n",
            "Epoch 7/25\n",
            "85/85 [==============================] - 209s 2s/step - loss: 0.5994 - accuracy: 0.7962 - val_loss: 0.5925 - val_accuracy: 0.8348\n",
            "Epoch 8/25\n",
            "85/85 [==============================] - 202s 2s/step - loss: 0.6060 - accuracy: 0.7884 - val_loss: 0.6260 - val_accuracy: 0.8378\n",
            "Epoch 9/25\n",
            "85/85 [==============================] - 193s 2s/step - loss: 0.4941 - accuracy: 0.8293 - val_loss: 0.5303 - val_accuracy: 0.8452\n",
            "Epoch 10/25\n",
            "85/85 [==============================] - 198s 2s/step - loss: 0.4450 - accuracy: 0.8473 - val_loss: 0.6202 - val_accuracy: 0.8304\n",
            "Epoch 11/25\n",
            "85/85 [==============================] - 209s 2s/step - loss: 0.4172 - accuracy: 0.8543 - val_loss: 0.5411 - val_accuracy: 0.8646\n",
            "Epoch 12/25\n",
            "85/85 [==============================] - 195s 2s/step - loss: 0.3861 - accuracy: 0.8646 - val_loss: 0.5537 - val_accuracy: 0.8586\n",
            "Epoch 13/25\n",
            "85/85 [==============================] - 200s 2s/step - loss: 0.3372 - accuracy: 0.8804 - val_loss: 0.5950 - val_accuracy: 0.8393\n",
            "Epoch 14/25\n",
            "85/85 [==============================] - 205s 2s/step - loss: 0.3144 - accuracy: 0.8918 - val_loss: 0.8037 - val_accuracy: 0.8467\n",
            "Epoch 15/25\n",
            "85/85 [==============================] - 199s 2s/step - loss: 0.3676 - accuracy: 0.8779 - val_loss: 0.5685 - val_accuracy: 0.8795\n",
            "Epoch 16/25\n",
            "85/85 [==============================] - 197s 2s/step - loss: 0.3207 - accuracy: 0.8915 - val_loss: 0.6694 - val_accuracy: 0.8571\n",
            "Epoch 17/25\n",
            "85/85 [==============================] - 210s 2s/step - loss: 0.2537 - accuracy: 0.9106 - val_loss: 0.6444 - val_accuracy: 0.8616\n",
            "Epoch 18/25\n",
            "85/85 [==============================] - 200s 2s/step - loss: 0.2406 - accuracy: 0.9169 - val_loss: 0.6823 - val_accuracy: 0.8750\n",
            "Epoch 19/25\n",
            "85/85 [==============================] - 205s 2s/step - loss: 0.2665 - accuracy: 0.9157 - val_loss: 0.8945 - val_accuracy: 0.8884\n",
            "Epoch 20/25\n",
            "85/85 [==============================] - 201s 2s/step - loss: 0.2085 - accuracy: 0.9249 - val_loss: 0.9037 - val_accuracy: 0.8690\n",
            "Epoch 21/25\n",
            "85/85 [==============================] - 203s 2s/step - loss: 0.2256 - accuracy: 0.9224 - val_loss: 0.5984 - val_accuracy: 0.8958\n",
            "Epoch 22/25\n",
            "85/85 [==============================] - 211s 2s/step - loss: 0.2205 - accuracy: 0.9191 - val_loss: 0.6247 - val_accuracy: 0.8795\n",
            "Epoch 23/25\n",
            "85/85 [==============================] - 196s 2s/step - loss: 0.1912 - accuracy: 0.9338 - val_loss: 0.6651 - val_accuracy: 0.9092\n",
            "Epoch 24/25\n",
            "85/85 [==============================] - 198s 2s/step - loss: 0.1546 - accuracy: 0.9470 - val_loss: 0.5924 - val_accuracy: 0.9107\n",
            "Epoch 25/25\n",
            "85/85 [==============================] - 209s 2s/step - loss: 0.2098 - accuracy: 0.9253 - val_loss: 0.8061 - val_accuracy: 0.8601\n"
          ]
        },
        {
          "output_type": "stream",
          "name": "stderr",
          "text": [
            "/usr/local/lib/python3.10/dist-packages/keras/src/engine/training.py:3103: UserWarning: You are saving your model as an HDF5 file via `model.save()`. This file format is considered legacy. We recommend using instead the native Keras format, e.g. `model.save('my_model.keras')`.\n",
            "  saving_api.save_model(\n"
          ]
        },
        {
          "output_type": "display_data",
          "data": {
            "text/plain": [
              "<Figure size 640x480 with 1 Axes>"
            ],
            "image/png": "[encoded data removed]"
          },
          "metadata": {}
        }
      ]
    },
    {
      "cell_type": "code",
      "source": [
        "import numpy as np\n",
        "from tensorflow.keras.preprocessing import image\n",
        "from tensorflow.keras.models import load_model\n",
        "\n",
        "# Load the trained model\n",
        "model = load_model('/content/drive/MyDrive/Plant_diesease_Datasetfolder/Plant_diesease_Dataset/plant_disease_model.h5')\n",
        "\n",
        "# Function to classify an image\n",
        "def classify_image(img_path):\n",
        "    img = image.load_img(img_path, target_size=(150, 150))\n",
        "    img_array = image.img_to_array(img)\n",
        "    img_array = np.expand_dims(img_array, axis=0) / 255.0\n",
        "\n",
        "    predictions = model.predict(img_array)\n",
        "    predicted_class_index = np.argmax(predictions[0])\n",
        "\n",
        "    # Get the class label based on the directory structure\n",
        "    class_labels = train_generator.class_indices\n",
        "    class_labels = dict((v, k) for k, v in class_labels.items())\n",
        "    predicted_label = class_labels[predicted_class_index]\n",
        "\n",
        "    return predicted_label\n",
        "\n",
        "# Test the model with a new image\n",
        "img_path = '/content/drive/MyDrive/Plant_diesease_Datasetfolder/Plant_diesease_Dataset/Peach___Bacterial_spot/image (1015).JPG'\n",
        "result = classify_image(img_path)\n",
        "print(f'The image is classified as: {result}')\n"
      ],
      "metadata": {
        "id": "fSLn4MdIqKwd",
        "colab": {
          "base_uri": "https://localhost:8080/"
        },
        "outputId": "303ff443-5ca9-493e-e28c-d85d0c18dd14"
      },
      "execution_count": null,
      "outputs": [
        {
          "output_type": "stream",
          "name": "stdout",
          "text": [
            "1/1 [==============================] - 0s 176ms/step\n",
            "The image is classified as: Peach___Bacterial_spot\n"
          ]
        }
      ]
    },
    {
      "cell_type": "code",
      "source": [
        "img_path = '/content/drive/MyDrive/Plant_diesease_My_folder/Plant_diesease_Dataset/Cherry___healthy/image (119).JPG'\n",
        "result = classify_image(img_path)\n",
        "print(f'The image is classified as: {result}')"
      ],
      "metadata": {
        "id": "nzlIiWP0NwE1",
        "colab": {
          "base_uri": "https://localhost:8080/"
        },
        "outputId": "aaee92cb-7335-4b07-c135-4711c1c9b996"
      },
      "execution_count": null,
      "outputs": [
        {
          "output_type": "stream",
          "name": "stdout",
          "text": [
            "1/1 [==============================] - 0s 43ms/step\n",
            "The image is classified as: Cherry___healthy\n"
          ]
        }
      ]
    },
    {
      "cell_type": "code",
      "source": [
        "img_path = '/content/drive/MyDrive/Plant_diesease_My_folder/Plant_diesease_Dataset/Apple___Black_rot/image (130).JPG'\n",
        "result = classify_image(img_path)\n",
        "print(f'The image is classified as: {result}')"
      ],
      "metadata": {
        "colab": {
          "base_uri": "https://localhost:8080/"
        },
        "id": "e4r7iialpJzi",
        "outputId": "9ee96c3d-2389-461c-99f0-2e93207eca7b"
      },
      "execution_count": null,
      "outputs": [
        {
          "output_type": "stream",
          "name": "stdout",
          "text": [
            "1/1 [==============================] - 0s 48ms/step\n",
            "The image is classified as: Apple___Black_rot\n"
          ]
        }
      ]
    },
    {
      "cell_type": "code",
      "source": [],
      "metadata": {
        "id": "u7EEiwSupJ20"
      },
      "execution_count": null,
      "outputs": []
    }
  ]
}